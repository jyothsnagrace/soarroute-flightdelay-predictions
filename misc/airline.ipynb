{
 "cells": [
  {
   "cell_type": "code",
   "execution_count": 4,
   "id": "39196bc5-887d-4e63-83d3-a9b2ae3d2431",
   "metadata": {
    "id": "39196bc5-887d-4e63-83d3-a9b2ae3d2431"
   },
   "outputs": [],
   "source": [
    "import pandas as pd\n",
    "import numpy as np\n",
    "from sklearn.model_selection import train_test_split\n",
    "from sklearn import metrics\n",
    "import statsmodels.api as sm\n",
    "import matplotlib.pyplot as plt\n",
    "import seaborn as sns\n",
    "import plotly.express as px\n",
    "from sklearn.ensemble import RandomForestClassifier\n",
    "from sklearn.metrics import accuracy_score, classification_report\n",
    "import numpy as np\n"
   ]
  },
  {
   "cell_type": "code",
   "execution_count": null,
   "id": "0762cc4a-0fd3-4a43-8355-3975540adf62",
   "metadata": {
    "id": "0762cc4a-0fd3-4a43-8355-3975540adf62"
   },
   "outputs": [],
   "source": [
    "# Load the dataset\n",
    "airlinedf = pd.read_csv(\"data/T_ONTIME_REPORTING.csv\")"
   ]
  },
  {
   "cell_type": "code",
   "execution_count": null,
   "id": "5860be02-5c59-46c6-8a0d-7e7135e3b244",
   "metadata": {
    "id": "5860be02-5c59-46c6-8a0d-7e7135e3b244",
    "outputId": "9552a12f-4677-46e4-8734-e8a53e833573"
   },
   "outputs": [],
   "source": [
    "airlinedf.info()"
   ]
  },
  {
   "cell_type": "code",
   "execution_count": null,
   "id": "fd6595bc-3cbf-4a35-a4f3-277e8b521736",
   "metadata": {
    "id": "fd6595bc-3cbf-4a35-a4f3-277e8b521736",
    "outputId": "ed0258c2-8a45-438b-b5c4-b1e24f7be61b"
   },
   "outputs": [],
   "source": [
    "print(airlinedf.isnull().sum())"
   ]
  },
  {
   "cell_type": "code",
   "execution_count": null,
   "id": "75a9d437",
   "metadata": {},
   "outputs": [],
   "source": [
    "airlinedf.columns"
   ]
  },
  {
   "cell_type": "code",
   "execution_count": null,
   "id": "2d4c131d-b8ad-4cb8-876a-08e38ee73123",
   "metadata": {
    "id": "2d4c131d-b8ad-4cb8-876a-08e38ee73123"
   },
   "outputs": [],
   "source": [
    "pd.options.mode.copy_on_write = True\n",
    "# Dropping rows with missing values for simplicity\n",
    "airline = airlinedf.dropna(subset=['DEP_DELAY', 'ARR_DELAY', 'CANCELLED', 'CARRIER_DELAY'])\n",
    "\n",
    "# Create a binary target variable: whether the flight was delayed on arrival (ARR_DELAY > 15 minutes)\n",
    "airline.loc[:, 'DELAYED'] = np.where(airline['ARR_DELAY'] > 15, 1, 0)\n"
   ]
  },
  {
   "cell_type": "code",
   "execution_count": null,
   "id": "c79781b4-1c40-4198-8685-126fe52b3ff3",
   "metadata": {
    "id": "c79781b4-1c40-4198-8685-126fe52b3ff3",
    "outputId": "1342c30e-5f1e-4745-9583-42aa0c7a562d"
   },
   "outputs": [],
   "source": [
    "display(airline)"
   ]
  },
  {
   "cell_type": "code",
   "execution_count": null,
   "id": "372bf788-5a1f-4488-a434-d809f03cc314",
   "metadata": {
    "id": "372bf788-5a1f-4488-a434-d809f03cc314",
    "outputId": "ab713f96-808a-4136-a27c-3a8d2b2651f2"
   },
   "outputs": [],
   "source": [
    "airline.shape"
   ]
  },
  {
   "cell_type": "code",
   "execution_count": null,
   "id": "596be047-bc2d-42de-a4df-be4d4bc44db3",
   "metadata": {
    "id": "596be047-bc2d-42de-a4df-be4d4bc44db3",
    "outputId": "e619b23c-48ca-4b49-ed29-8c91234294f5"
   },
   "outputs": [],
   "source": [
    "airline.hist(bins = 30, figsize = (12, 12));"
   ]
  },
  {
   "cell_type": "code",
   "execution_count": null,
   "id": "d7c67984-ee6f-4ebe-884f-f97fcb0407c9",
   "metadata": {
    "id": "d7c67984-ee6f-4ebe-884f-f97fcb0407c9",
    "outputId": "61d60806-d045-4804-9879-82cc7f52c187"
   },
   "outputs": [],
   "source": [
    "from sklearn.metrics import accuracy_score, classification_report\n",
    "\n",
    "\n",
    "# Select features for prediction (adjust as needed)\n",
    "X = airline[['DISTANCE', 'DEP_DELAY', 'CARRIER_DELAY', 'WEATHER_DELAY', 'NAS_DELAY', 'SECURITY_DELAY']]\n",
    "\n",
    "# Fill NaNs with 0 for specific delay reasons\n",
    "X = X.fillna(0)\n",
    "\n",
    "# Target variable\n",
    "y = airline['DELAYED']\n",
    "\n",
    "# Split the data into training and test sets\n",
    "X_train, X_test, y_train, y_test = train_test_split(X, y, test_size=0.3, random_state=42)\n",
    "\n",
    "# Create a Random Forest model\n",
    "rf_clf = RandomForestClassifier(n_estimators=100, random_state=42)\n",
    "\n",
    "# Train the model\n",
    "rf_clf.fit(X_train, y_train)\n",
    "\n",
    "# Make predictions\n",
    "y_pred = rf_clf.predict(X_test)\n",
    "\n",
    "# Evaluate the model\n",
    "accuracy = accuracy_score(y_test, y_pred)\n",
    "classification_report_res = classification_report(y_test, y_pred, target_names=['On Time', 'Delayed'])\n",
    "\n",
    "# Print the accuracy and classification report\n",
    "print(f\"Random Forest Accuracy: {accuracy:.4f}\")\n",
    "print(\"Classification Report:\")\n",
    "print(classification_report_res)"
   ]
  },
  {
   "cell_type": "code",
   "execution_count": null,
   "id": "c85383f7-e228-455d-9c96-400cf6e98295",
   "metadata": {
    "id": "c85383f7-e228-455d-9c96-400cf6e98295"
   },
   "outputs": [],
   "source": []
  }
 ],
 "metadata": {
  "colab": {
   "provenance": []
  },
  "kernelspec": {
   "display_name": "base",
   "language": "python",
   "name": "python3"
  },
  "language_info": {
   "codemirror_mode": {
    "name": "ipython",
    "version": 3
   },
   "file_extension": ".py",
   "mimetype": "text/x-python",
   "name": "python",
   "nbconvert_exporter": "python",
   "pygments_lexer": "ipython3",
   "version": "3.11.7"
  }
 },
 "nbformat": 4,
 "nbformat_minor": 5
}
