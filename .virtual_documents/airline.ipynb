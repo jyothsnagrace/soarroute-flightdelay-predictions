# pip install scikit-learn

!pip install statsmodels



import pandas as pd
import numpy as np
from sklearn.model_selection import train_test_split
from sklearn import metrics
import statsmodels.api as sm
import matplotlib.pyplot as plt
import seaborn as sns
import plotly.express as px
from sklearn.ensemble import RandomForestClassifier
from sklearn.metrics import accuracy_score, classification_report
import numpy as np



# Load the dataset
airlinedf = pd.read_csv("data\T_ONTIME_REPORTING.csv")


airlinedf.info()


print(airlinedf.isnull().sum())


pd.options.mode.copy_on_write = True
# Dropping rows with missing values for simplicity
airline = airlinedf.dropna(subset=['DEP_DELAY', 'ARR_DELAY', 'CANCELLED', 'DISTANCE', 'CARRIER_DELAY'])

# Create a binary target variable: whether the flight was delayed on arrival (ARR_DELAY > 15 minutes)
airline.loc[:, 'DELAYED'] = np.where(airline['ARR_DELAY'] > 15, 1, 0)



display(airline)


airline.shape


airline.hist(bins = 30, figsize = (12, 12));


from sklearn.metrics import accuracy_score, classification_report


# Select features for prediction (adjust as needed)
X = airline[['DISTANCE', 'DEP_DELAY', 'CARRIER_DELAY', 'WEATHER_DELAY', 'NAS_DELAY', 'SECURITY_DELAY']]

# Fill NaNs with 0 for specific delay reasons
X = X.fillna(0)

# Target variable
y = airline['DELAYED']

# Split the data into training and test sets
X_train, X_test, y_train, y_test = train_test_split(X, y, test_size=0.3, random_state=42)

# Create a Random Forest model
rf_clf = RandomForestClassifier(n_estimators=100, random_state=42)

# Train the model
rf_clf.fit(X_train, y_train)

# Make predictions
y_pred = rf_clf.predict(X_test)

# Evaluate the model
accuracy = accuracy_score(y_test, y_pred)
classification_report_res = classification_report(y_test, y_pred, target_names=['On Time', 'Delayed'])

# Print the accuracy and classification report
print(f"Random Forest Accuracy: {accuracy:.4f}")
print("Classification Report:")
print(classification_report_res)



